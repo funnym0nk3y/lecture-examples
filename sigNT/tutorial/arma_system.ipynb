{
 "cells": [
  {
   "cell_type": "markdown",
   "metadata": {},
   "source": [
    "# Content and Objective\n",
    "\n",
    "+ Show how an ARMA system is developping over time\n",
    "+ Input signal might be chosen or white noise can be used"
   ]
  },
  {
   "cell_type": "markdown",
   "metadata": {},
   "source": [
    "# Importing and Plotting Options"
   ]
  },
  {
   "cell_type": "code",
   "execution_count": 1,
   "metadata": {
    "jupyter": {
     "source_hidden": true
    }
   },
   "outputs": [],
   "source": [
    "# importing\n",
    "import numpy as np\n",
    "\n",
    "import matplotlib.pyplot as plt\n",
    "import matplotlib\n",
    "\n",
    "from scipy import signal\n",
    "\n",
    "# showing figures inline\n",
    "%matplotlib inline"
   ]
  },
  {
   "cell_type": "code",
   "execution_count": 2,
   "metadata": {
    "jupyter": {
     "source_hidden": true
    }
   },
   "outputs": [],
   "source": [
    "# plotting options \n",
    "font = {'size'   : 20}\n",
    "plt.rc('font', **font)\n",
    "plt.rc('text', usetex=True)\n",
    "\n",
    "matplotlib.rc('figure', figsize=(20, 6) )"
   ]
  },
  {
   "cell_type": "markdown",
   "metadata": {},
   "source": [
    "# Parameters"
   ]
  },
  {
   "cell_type": "code",
   "execution_count": 3,
   "metadata": {},
   "outputs": [],
   "source": [
    "# switch for choosing different pol-zero constellations\n",
    "switch = 2"
   ]
  },
  {
   "cell_type": "code",
   "execution_count": 4,
   "metadata": {},
   "outputs": [],
   "source": [
    "if switch == 1:\n",
    "    \n",
    "    b_0_p = np.array( [ 1, 1, 1, 1 ] )\n",
    "    a_1_q = np.array( [ ] )\n",
    "\n",
    "elif switch == 2:\n",
    "    \n",
    "    b_0_p = np.array( [ 1 ] )\n",
    "    a_1_q = np.array( [ .9, -.4, .2, -.7 ] )\n",
    "    a_1_q /= np.linalg.norm( a_1_q, 1)\n",
    "    #a_1_q = np.array( [ .9] )    \n",
    "    \n",
    "elif switch == 3:\n",
    "\n",
    "    f_Nyquist = 1 / (2.0 )\n",
    "\n",
    "    # apply \"real-world\" filtering\n",
    "    cutoff_freq = f_Nyquist / 4\n",
    "\n",
    "    ripple_db = 20                      # ripples and transition width of the filter\n",
    "    width = f_Nyquist / 5.0\n",
    "\n",
    "    N, beta = signal.kaiserord(ripple_db, width)    # find filter order and beta parameter\n",
    "\n",
    "    # find filter and filter input\n",
    "    taps = signal.firwin( N, cutoff=cutoff_freq,  window=('kaiser', beta), nyq = f_Nyquist )\n",
    "\n",
    "    b_0_p = taps\n",
    "    a_1_q = []\n",
    "    \n",
    "    \n",
    "elif choice==4: # AR spectrum out of Kroschel\n",
    "    b = [1] \n",
    "    a = [1 -1.372, 1.843, -1.238, .849] \n",
    "    sigma2 = .0032\n",
    "    y = signal.lfilter( b, a, np.sqrt( sigma2 ) * Omega_1 * N_vec )  \n",
    "\n",
    "elif choice==5: # broad spectrum out of Kroschel\n",
    "    b = [1, 0, 0, 0, -.5]\n",
    "    a = [1]\n",
    "    sigma2 = .44\n",
    "    Omega_1 = 1.0\n",
    "    y = signal.lfilter( b, a, np.sqrt( sigma2 ) * Omega_1 * N_vec )\n",
    "\n",
    "elif choice==6: # two sinusoids with noise\n",
    "    Omega_0 = 1.0\n",
    "    Omega_1 = 1.2\n",
    "    y = np.sin( Omega_0 * N_vec ) + np.sin( Omega_1 * N_vec) + noise\n",
    "\n",
    "elif choice==7: # two complex sinusoids with noise\n",
    "    Omega_0 = 1.0\n",
    "    Omega_1 = 1.2\n",
    "    y = np.exp( 1j * Omega_0 * N_vec) + \\\n",
    "            np.exp( 1j * Omega_1 * N_vec)  + \\\n",
    "            noise\n",
    "\n",
    "    \n",
    "p = len( b_0_p ) - 1\n",
    "q = len( a_1_q )"
   ]
  },
  {
   "cell_type": "markdown",
   "metadata": {},
   "source": [
    "# Input Type"
   ]
  },
  {
   "cell_type": "code",
   "execution_count": 5,
   "metadata": {},
   "outputs": [],
   "source": [
    "# length of output sequence\n",
    "N_length = 10000\n",
    "\n",
    "\n",
    "# white noise with given variance/power\n",
    "sigma_x_2 = 1.0\n",
    "x = np.sqrt( sigma_x_2 ) * np.random.randn( N_length )"
   ]
  },
  {
   "cell_type": "markdown",
   "metadata": {},
   "source": [
    "# Time Series and Show Spectrum"
   ]
  },
  {
   "cell_type": "code",
   "execution_count": 6,
   "metadata": {
    "jupyter": {
     "source_hidden": true
    },
    "tags": []
   },
   "outputs": [],
   "source": [
    "\n",
    "y = np.array( [ b_0_p[ 0 ] * x[ 0 ] ] )\n",
    "\n",
    "# loop for times\n",
    "for n in range( 1, N_length ):\n",
    "\n",
    "    # ma part\n",
    "    ma = 0.0\n",
    "    for _p in range( 0, np.min( ( n, p ) ) + 1  ):\n",
    "        ma += b_0_p[ _p ] * x[ n - _p  ]\n",
    "        \n",
    "    # ar part\n",
    "    ar = 0.0\n",
    "    for _q in range( 1, np.min( ( n, q ) ) + 1 ):\n",
    "        ar += a_1_q[ _q - 1 ] * y[ n - _q ]\n",
    "\n",
    "    # apply\n",
    "    y = np.append( y, ma - ar )"
   ]
  },
  {
   "cell_type": "markdown",
   "metadata": {},
   "source": [
    "# Plotting"
   ]
  },
  {
   "cell_type": "code",
   "execution_count": 7,
   "metadata": {
    "jupyter": {
     "source_hidden": true
    },
    "scrolled": true
   },
   "outputs": [
    {
     "data": {
      "text/plain": [
       "<matplotlib.legend.Legend at 0x7efd004ca730>"
      ]
     },
     "execution_count": 7,
     "metadata": {},
     "output_type": "execute_result"
    },
    {
     "data": {
      "image/png": "[encoded data removed]",
      "text/plain": [
       "<Figure size 1440x432 with 2 Axes>"
      ]
     },
     "metadata": {},
     "output_type": "display_data"
    }
   ],
   "source": [
    "plt.figure()\n",
    "\n",
    "plt.subplot(121)\n",
    "plt.plot( x, label= '$x[n]$' )\n",
    "\n",
    "plt.grid( True )\n",
    "plt.xlabel('$n$')\n",
    "plt.legend()\n",
    "\n",
    "plt.subplot(122)\n",
    "plt.plot( y, label= '$y[n]$' )\n",
    "\n",
    "plt.grid( True )\n",
    "plt.xlabel('$n$')\n",
    "plt.legend()\n"
   ]
  },
  {
   "cell_type": "markdown",
   "metadata": {},
   "source": [
    "# Find YW Parameters"
   ]
  },
  {
   "cell_type": "code",
   "execution_count": 8,
   "metadata": {},
   "outputs": [],
   "source": [
    "########################\n",
    "# acf estimator\n",
    "########################\n",
    "def est_acf(y, est_type):\n",
    "    \"\"\"\n",
    "    estimates acf given a number of observation\n",
    "    \n",
    "    Remark: signal is assumed to be starting from 0 to length(y)-1\n",
    "    \n",
    "    IN: observations y, est_type (biased / unbiased)\n",
    "    OUT: estimated acf, centered around 0\n",
    "    \"\"\"\n",
    "    \n",
    "    N = np.size( y )\n",
    "    r = np.zeros_like( y )\n",
    "    \n",
    "    # loop lags of acf\n",
    "    for k in np.arange(0, N):\n",
    "        \n",
    "        temp = np.sum( y[k:N] * (y[0:(N-k)]) )\n",
    "\n",
    "        # type of estimator\n",
    "        if est_type == 'biased':\n",
    "            r[k] = temp/N\n",
    "        elif est_type == 'unbiased':\n",
    "            r[k] = temp/(N-k)\n",
    "        \n",
    "    # find values for negative indices\n",
    "    r_reverse = np.conjugate(r[::-1])     \n",
    "   \n",
    "    return  np.append(r_reverse[0:len(r)-1], r) "
   ]
  },
  {
   "cell_type": "code",
   "execution_count": 9,
   "metadata": {},
   "outputs": [],
   "source": [
    "##########################\n",
    "# YW parameters\n",
    "##########################\n",
    "\n",
    "def find_parameters_yulewalker(y, order, s2 ):\n",
    "    \"\"\"\n",
    "    estimates a_v parameters of filter using the Yule-Walker method\n",
    "                \n",
    "    IN: samples y, YW oder q\n",
    "    OUT: parameters a_v\n",
    "    \"\"\"\n",
    "\n",
    "    r = est_acf(y, 'biased') \n",
    "    #r = r/np.max(acf)\n",
    "    N = int( (len(r)+1)/2 )\n",
    "\n",
    "    # get matrix R for Yule-Walker     \n",
    "    # note that R is not the autocorrelation matrix, but R = (ACF matrix)^*\n",
    "    R = np.zeros([order+1, order+1], dtype=float)        \n",
    "    for p in range(0, order+1):\n",
    "        R[:,p] = r[N-1-p : N-1-p+order+1 ]\n",
    "        \n",
    "    # find and solve linear equation system for the coefficients\n",
    "    b = np.matrix(np.append(s2, np.zeros(order))).T\n",
    "    theta = np.linalg.solve(R, b)\n",
    "    \n",
    "    theta = np.array(theta / theta[0])\n",
    "\n",
    "    return theta.T"
   ]
  },
  {
   "cell_type": "code",
   "execution_count": 10,
   "metadata": {},
   "outputs": [
    {
     "name": "stdout",
     "output_type": "stream",
     "text": [
      "[ 0.45533465 -0.18770408  0.06933248 -0.28685061]\n",
      "[ 0.40909091 -0.18181818  0.09090909 -0.31818182]\n"
     ]
    }
   ],
   "source": [
    "print( find_parameters_yulewalker( y, q, 1. )[0][1:])\n",
    "print( a_1_q )"
   ]
  },
  {
   "cell_type": "code",
   "execution_count": null,
   "metadata": {},
   "outputs": [],
   "source": []
  },
  {
   "cell_type": "code",
   "execution_count": null,
   "metadata": {},
   "outputs": [],
   "source": []
  }
 ],
 "metadata": {
  "kernelspec": {
   "display_name": "Python 3 (Spyder)",
   "language": "python3",
   "name": "python3"
  },
  "language_info": {
   "codemirror_mode": {
    "name": "ipython",
    "version": 3
   },
   "file_extension": ".py",
   "mimetype": "text/x-python",
   "name": "python",
   "nbconvert_exporter": "python",
   "pygments_lexer": "ipython3",
   "version": "3.8.10"
  },
  "pycharm": {
   "stem_cell": {
    "cell_type": "raw",
    "metadata": {
     "collapsed": false
    },
    "source": []
   }
  }
 },
 "nbformat": 4,
 "nbformat_minor": 4
}
